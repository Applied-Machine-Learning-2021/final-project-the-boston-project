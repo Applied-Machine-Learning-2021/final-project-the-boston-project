{
  "nbformat": 4,
  "nbformat_minor": 0,
  "metadata": {
    "colab": {
      "name": "CNN (drew).ipynb",
      "provenance": [],
      "collapsed_sections": []
    },
    "kernelspec": {
      "name": "python3",
      "display_name": "Python 3"
    },
    "language_info": {
      "name": "python"
    }
  },
  "cells": [
    {
      "cell_type": "markdown",
      "metadata": {
        "id": "Bd008eZ16O2I"
      },
      "source": [
        "**This CNN was created predict whether or not an area of land contained a cemetery or not**"
      ]
    },
    {
      "cell_type": "code",
      "metadata": {
        "colab": {
          "base_uri": "https://localhost:8080/"
        },
        "id": "kLfmKLLQMsg5",
        "outputId": "dd6ccaad-0234-465c-e161-e76ed0fb173b"
      },
      "source": [
        "#Mounting \n",
        "from google.colab import drive\n",
        "drive.mount('/content/drive')"
      ],
      "execution_count": null,
      "outputs": [
        {
          "output_type": "stream",
          "text": [
            "Mounted at /content/drive\n"
          ],
          "name": "stdout"
        }
      ]
    },
    {
      "cell_type": "code",
      "metadata": {
        "colab": {
          "base_uri": "https://localhost:8080/"
        },
        "id": "QIuuTvpRYu7H",
        "outputId": "7bbb2aa2-591a-43c5-c997-27828dbb32ba"
      },
      "source": [
        "\n",
        "import os\n",
        "cemetery_boxes_dir = \"/content/drive/Shareddrives/UAVs n' stuff/Data Files\"\n",
        "cemetary_zipfiles = os.listdir(cemetery_boxes_dir)\n",
        "\n",
        "zipfile_names = [cemetery_boxes_dir + x for x in cemetary_zipfiles]\n",
        "zipfile_names"
      ],
      "execution_count": null,
      "outputs": [
        {
          "output_type": "execute_result",
          "data": {
            "text/plain": [
              "[\"/content/drive/Shareddrives/UAVs n' stuff/Data FilesUAV_lab.zip\",\n",
              " \"/content/drive/Shareddrives/UAVs n' stuff/Data FilesBoxes\"]"
            ]
          },
          "metadata": {
            "tags": []
          },
          "execution_count": 3
        }
      ]
    },
    {
      "cell_type": "code",
      "metadata": {
        "id": "hkM0_oyECi0-"
      },
      "source": [
        "import zipfile\n",
        "zipfile.ZipFile(\"/content/drive/Shareddrives/UAVs n' stuff/Data Files/UAV_lab.zip\").extractall()\n"
      ],
      "execution_count": null,
      "outputs": []
    },
    {
      "cell_type": "markdown",
      "metadata": {
        "id": "VaGWxm3_wyPR"
      },
      "source": [
        "**Building a CNN**"
      ]
    },
    {
      "cell_type": "code",
      "metadata": {
        "id": "-OAtaevgwxXf",
        "colab": {
          "base_uri": "https://localhost:8080/"
        },
        "outputId": "974c3c71-8914-4ac9-983f-7239a0148533"
      },
      "source": [
        "#Loading in the data for the CNN\n",
        "train_dir = \"/content/UAV_lab\"\n",
        "train_categories = set(os.listdir(train_dir))\n",
        "test_dir = \"/content/test\"\n",
        "test_categories = set(os.listdir(test_dir))\n",
        "\n",
        "if train_categories.symmetric_difference(test_categories):\n",
        "  print(\"Warning!: \", train_categories.symmetric_difference(test_categories))\n",
        "\n",
        "print(sorted(train_categories))\n",
        "print(len(train_categories))\n",
        "print(sorted(test_categories))\n",
        "print(len(test_categories))"
      ],
      "execution_count": null,
      "outputs": [
        {
          "output_type": "stream",
          "text": [
            "Warning!:  {'.DS_Store'}\n",
            "['.DS_Store', 'cemetery', 'not_cemetery']\n",
            "3\n",
            "['cemetery', 'not_cemetery']\n",
            "2\n"
          ],
          "name": "stdout"
        }
      ]
    },
    {
      "cell_type": "code",
      "metadata": {
        "colab": {
          "base_uri": "https://localhost:8080/"
        },
        "id": "ZLCQpyR3WoWx",
        "outputId": "c7d1c06e-417f-4c92-b883-98c09ff3296d"
      },
      "source": [
        "\n",
        "import tensorflow as tf\n",
        "\n",
        "train_dir = \"/content/UAV_lab\"\n",
        "\n",
        "from keras_preprocessing.image import ImageDataGenerator\n",
        "\n",
        "datagen = ImageDataGenerator()\n",
        "\n",
        "train_image_iterator = tf.keras.preprocessing.image.DirectoryIterator(\n",
        "    target_size=(100, 100),\n",
        "    directory=train_dir,\n",
        "    batch_size=128,\n",
        "    image_data_generator=None)"
      ],
      "execution_count": null,
      "outputs": [
        {
          "output_type": "stream",
          "text": [
            "Found 114 images belonging to 2 classes.\n"
          ],
          "name": "stdout"
        }
      ]
    },
    {
      "cell_type": "markdown",
      "metadata": {
        "id": "1j6AQkigxhA0"
      },
      "source": [
        "**Fitting the model**"
      ]
    },
    {
      "cell_type": "code",
      "metadata": {
        "id": "7uqKibHSxHSQ",
        "colab": {
          "base_uri": "https://localhost:8080/"
        },
        "outputId": "b24e1ca0-9fc2-4ee2-85e9-c0b421f16479"
      },
      "source": [
        "#fitting the model with specified layers and padding \n",
        "import tensorflow as tf\n",
        "\n",
        "model = tf.keras.Sequential([\n",
        "    tf.keras.layers.Conv2D(16, 3, padding='same', activation='relu',\n",
        "                           input_shape=(100, 100, 3)),\n",
        "    tf.keras.layers.MaxPooling2D(),\n",
        "    tf.keras.layers.Conv2D(32, 3, padding='same', activation='relu'),\n",
        "    tf.keras.layers.MaxPooling2D(),\n",
        "    tf.keras.layers.Conv2D(64, 3, padding='same', activation='relu'),\n",
        "    tf.keras.layers.MaxPooling2D(),\n",
        "    tf.keras.layers.Flatten(),\n",
        "    tf.keras.layers.Dense(512, activation='relu'),\n",
        "    tf.keras.layers.Dense(2, activation='sigmoid')\n",
        "])\n",
        "\n",
        "model.compile(optimizer='adam',\n",
        "              loss='binary_crossentropy',\n",
        "              metrics=['accuracy'])\n",
        "\n",
        "history = model.fit(\n",
        "    train_image_iterator,\n",
        "    epochs=100,\n",
        "    shuffle=True\n",
        ")"
      ],
      "execution_count": null,
      "outputs": [
        {
          "output_type": "stream",
          "text": [
            "Epoch 1/100\n",
            "1/1 [==============================] - 7s 7s/step - loss: 10.8277 - accuracy: 0.2719\n",
            "Epoch 2/100\n",
            "1/1 [==============================] - 6s 6s/step - loss: 119.7557 - accuracy: 0.7281\n",
            "Epoch 3/100\n",
            "1/1 [==============================] - 6s 6s/step - loss: 81.9128 - accuracy: 0.7281\n",
            "Epoch 4/100\n",
            "1/1 [==============================] - 6s 6s/step - loss: 43.7742 - accuracy: 0.7281\n",
            "Epoch 5/100\n",
            "1/1 [==============================] - 6s 6s/step - loss: 28.0384 - accuracy: 0.7281\n",
            "Epoch 6/100\n",
            "1/1 [==============================] - 6s 6s/step - loss: 10.4197 - accuracy: 0.7281\n",
            "Epoch 7/100\n",
            "1/1 [==============================] - 6s 6s/step - loss: 4.6683 - accuracy: 0.7281\n",
            "Epoch 8/100\n",
            "1/1 [==============================] - 6s 6s/step - loss: 1.3985 - accuracy: 0.7281\n",
            "Epoch 9/100\n",
            "1/1 [==============================] - 6s 6s/step - loss: 2.4408 - accuracy: 0.3246\n",
            "Epoch 10/100\n",
            "1/1 [==============================] - 6s 6s/step - loss: 1.5847 - accuracy: 0.2807\n",
            "Epoch 11/100\n",
            "1/1 [==============================] - 6s 6s/step - loss: 0.7036 - accuracy: 0.6140\n",
            "Epoch 12/100\n",
            "1/1 [==============================] - 6s 6s/step - loss: 0.6202 - accuracy: 0.7368\n",
            "Epoch 13/100\n",
            "1/1 [==============================] - 6s 6s/step - loss: 0.7059 - accuracy: 0.7281\n",
            "Epoch 14/100\n",
            "1/1 [==============================] - 6s 6s/step - loss: 0.5269 - accuracy: 0.7368\n",
            "Epoch 15/100\n",
            "1/1 [==============================] - 6s 6s/step - loss: 0.4402 - accuracy: 0.7632\n",
            "Epoch 16/100\n",
            "1/1 [==============================] - 6s 6s/step - loss: 0.4579 - accuracy: 0.8772\n",
            "Epoch 17/100\n",
            "1/1 [==============================] - 6s 6s/step - loss: 0.4714 - accuracy: 0.9474\n",
            "Epoch 18/100\n",
            "1/1 [==============================] - 6s 6s/step - loss: 0.4505 - accuracy: 0.9649\n",
            "Epoch 19/100\n",
            "1/1 [==============================] - 6s 6s/step - loss: 0.4081 - accuracy: 0.9561\n",
            "Epoch 20/100\n",
            "1/1 [==============================] - 6s 6s/step - loss: 0.3671 - accuracy: 0.8246\n",
            "Epoch 21/100\n",
            "1/1 [==============================] - 6s 6s/step - loss: 0.3698 - accuracy: 0.7632\n",
            "Epoch 22/100\n",
            "1/1 [==============================] - 6s 6s/step - loss: 0.3164 - accuracy: 0.8333\n",
            "Epoch 23/100\n",
            "1/1 [==============================] - 6s 6s/step - loss: 0.2790 - accuracy: 0.9386\n",
            "Epoch 24/100\n",
            "1/1 [==============================] - 6s 6s/step - loss: 0.2439 - accuracy: 0.9649\n",
            "Epoch 25/100\n",
            "1/1 [==============================] - 6s 6s/step - loss: 0.2023 - accuracy: 1.0000\n",
            "Epoch 26/100\n",
            "1/1 [==============================] - 6s 6s/step - loss: 0.1648 - accuracy: 0.9912\n",
            "Epoch 27/100\n",
            "1/1 [==============================] - 6s 6s/step - loss: 0.1083 - accuracy: 1.0000\n",
            "Epoch 28/100\n",
            "1/1 [==============================] - 6s 6s/step - loss: 0.0914 - accuracy: 0.9912\n",
            "Epoch 29/100\n",
            "1/1 [==============================] - 6s 6s/step - loss: 0.0618 - accuracy: 1.0000\n",
            "Epoch 30/100\n",
            "1/1 [==============================] - 6s 6s/step - loss: 0.0281 - accuracy: 1.0000\n",
            "Epoch 31/100\n",
            "1/1 [==============================] - 6s 6s/step - loss: 0.0300 - accuracy: 1.0000\n",
            "Epoch 32/100\n",
            "1/1 [==============================] - 6s 6s/step - loss: 0.0133 - accuracy: 1.0000\n",
            "Epoch 33/100\n",
            "1/1 [==============================] - 6s 6s/step - loss: 0.0127 - accuracy: 1.0000\n",
            "Epoch 34/100\n",
            "1/1 [==============================] - 6s 6s/step - loss: 0.0070 - accuracy: 1.0000\n",
            "Epoch 35/100\n",
            "1/1 [==============================] - 6s 6s/step - loss: 0.0032 - accuracy: 1.0000\n",
            "Epoch 36/100\n",
            "1/1 [==============================] - 6s 6s/step - loss: 0.0023 - accuracy: 1.0000\n",
            "Epoch 37/100\n",
            "1/1 [==============================] - 6s 6s/step - loss: 0.0024 - accuracy: 1.0000\n",
            "Epoch 38/100\n",
            "1/1 [==============================] - 6s 6s/step - loss: 0.0025 - accuracy: 1.0000\n",
            "Epoch 39/100\n",
            "1/1 [==============================] - 6s 6s/step - loss: 0.0012 - accuracy: 1.0000\n",
            "Epoch 40/100\n",
            "1/1 [==============================] - 6s 6s/step - loss: 5.2899e-04 - accuracy: 1.0000\n",
            "Epoch 41/100\n",
            "1/1 [==============================] - 6s 6s/step - loss: 3.1944e-04 - accuracy: 1.0000\n",
            "Epoch 42/100\n",
            "1/1 [==============================] - 6s 6s/step - loss: 3.0283e-04 - accuracy: 1.0000\n",
            "Epoch 43/100\n",
            "1/1 [==============================] - 6s 6s/step - loss: 4.4873e-04 - accuracy: 1.0000\n",
            "Epoch 44/100\n",
            "1/1 [==============================] - 6s 6s/step - loss: 4.6249e-04 - accuracy: 1.0000\n",
            "Epoch 45/100\n",
            "1/1 [==============================] - 6s 6s/step - loss: 2.7719e-04 - accuracy: 1.0000\n",
            "Epoch 46/100\n",
            "1/1 [==============================] - 6s 6s/step - loss: 1.9356e-04 - accuracy: 1.0000\n",
            "Epoch 47/100\n",
            "1/1 [==============================] - 6s 6s/step - loss: 1.5846e-04 - accuracy: 1.0000\n",
            "Epoch 48/100\n",
            "1/1 [==============================] - 6s 6s/step - loss: 1.3004e-04 - accuracy: 1.0000\n",
            "Epoch 49/100\n",
            "1/1 [==============================] - 6s 6s/step - loss: 9.9776e-05 - accuracy: 1.0000\n",
            "Epoch 50/100\n",
            "1/1 [==============================] - 6s 6s/step - loss: 7.1653e-05 - accuracy: 1.0000\n",
            "Epoch 51/100\n",
            "1/1 [==============================] - 6s 6s/step - loss: 4.9309e-05 - accuracy: 1.0000\n",
            "Epoch 52/100\n",
            "1/1 [==============================] - 6s 6s/step - loss: 7.5088e-05 - accuracy: 1.0000\n",
            "Epoch 53/100\n",
            "1/1 [==============================] - 6s 6s/step - loss: 3.5528e-05 - accuracy: 1.0000\n",
            "Epoch 54/100\n",
            "1/1 [==============================] - 6s 6s/step - loss: 3.3209e-05 - accuracy: 1.0000\n",
            "Epoch 55/100\n",
            "1/1 [==============================] - 6s 6s/step - loss: 3.1916e-05 - accuracy: 1.0000\n",
            "Epoch 56/100\n",
            "1/1 [==============================] - 6s 6s/step - loss: 2.9493e-05 - accuracy: 1.0000\n",
            "Epoch 57/100\n",
            "1/1 [==============================] - 6s 6s/step - loss: 2.6464e-05 - accuracy: 1.0000\n",
            "Epoch 58/100\n",
            "1/1 [==============================] - 6s 6s/step - loss: 2.3309e-05 - accuracy: 1.0000\n",
            "Epoch 59/100\n",
            "1/1 [==============================] - 6s 6s/step - loss: 2.0425e-05 - accuracy: 1.0000\n",
            "Epoch 60/100\n",
            "1/1 [==============================] - 6s 6s/step - loss: 1.7774e-05 - accuracy: 1.0000\n",
            "Epoch 61/100\n",
            "1/1 [==============================] - 6s 6s/step - loss: 1.5392e-05 - accuracy: 1.0000\n",
            "Epoch 62/100\n",
            "1/1 [==============================] - 6s 6s/step - loss: 1.3426e-05 - accuracy: 1.0000\n",
            "Epoch 63/100\n",
            "1/1 [==============================] - 6s 6s/step - loss: 1.2012e-05 - accuracy: 1.0000\n",
            "Epoch 64/100\n",
            "1/1 [==============================] - 6s 6s/step - loss: 1.1233e-05 - accuracy: 1.0000\n",
            "Epoch 65/100\n",
            "1/1 [==============================] - 6s 6s/step - loss: 1.0871e-05 - accuracy: 1.0000\n",
            "Epoch 66/100\n",
            "1/1 [==============================] - 6s 6s/step - loss: 1.0405e-05 - accuracy: 1.0000\n",
            "Epoch 67/100\n",
            "1/1 [==============================] - 6s 6s/step - loss: 9.4618e-06 - accuracy: 1.0000\n",
            "Epoch 68/100\n",
            "1/1 [==============================] - 6s 6s/step - loss: 8.3096e-06 - accuracy: 1.0000\n",
            "Epoch 69/100\n",
            "1/1 [==============================] - 6s 6s/step - loss: 7.3272e-06 - accuracy: 1.0000\n",
            "Epoch 70/100\n",
            "1/1 [==============================] - 6s 6s/step - loss: 6.6163e-06 - accuracy: 1.0000\n",
            "Epoch 71/100\n",
            "1/1 [==============================] - 6s 6s/step - loss: 6.1105e-06 - accuracy: 1.0000\n",
            "Epoch 72/100\n",
            "1/1 [==============================] - 6s 6s/step - loss: 5.7226e-06 - accuracy: 1.0000\n",
            "Epoch 73/100\n",
            "1/1 [==============================] - 6s 6s/step - loss: 5.3865e-06 - accuracy: 1.0000\n",
            "Epoch 74/100\n",
            "1/1 [==============================] - 6s 6s/step - loss: 5.0694e-06 - accuracy: 1.0000\n",
            "Epoch 75/100\n",
            "1/1 [==============================] - 6s 6s/step - loss: 4.7614e-06 - accuracy: 1.0000\n",
            "Epoch 76/100\n",
            "1/1 [==============================] - 6s 6s/step - loss: 4.4614e-06 - accuracy: 1.0000\n",
            "Epoch 77/100\n",
            "1/1 [==============================] - 6s 6s/step - loss: 4.1721e-06 - accuracy: 1.0000\n",
            "Epoch 78/100\n",
            "1/1 [==============================] - 6s 6s/step - loss: 3.8955e-06 - accuracy: 1.0000\n",
            "Epoch 79/100\n",
            "1/1 [==============================] - 6s 6s/step - loss: 3.6423e-06 - accuracy: 1.0000\n",
            "Epoch 80/100\n",
            "1/1 [==============================] - 6s 6s/step - loss: 3.4180e-06 - accuracy: 1.0000\n",
            "Epoch 81/100\n",
            "1/1 [==============================] - 6s 6s/step - loss: 3.2276e-06 - accuracy: 1.0000\n",
            "Epoch 82/100\n",
            "1/1 [==============================] - 6s 6s/step - loss: 3.0590e-06 - accuracy: 1.0000\n",
            "Epoch 83/100\n",
            "1/1 [==============================] - 6s 6s/step - loss: 2.9139e-06 - accuracy: 1.0000\n",
            "Epoch 84/100\n",
            "1/1 [==============================] - 6s 6s/step - loss: 2.7920e-06 - accuracy: 1.0000\n",
            "Epoch 85/100\n",
            "1/1 [==============================] - 6s 6s/step - loss: 2.6961e-06 - accuracy: 1.0000\n",
            "Epoch 86/100\n",
            "1/1 [==============================] - 6s 6s/step - loss: 2.6166e-06 - accuracy: 1.0000\n",
            "Epoch 87/100\n",
            "1/1 [==============================] - 6s 6s/step - loss: 2.5495e-06 - accuracy: 1.0000\n",
            "Epoch 88/100\n",
            "1/1 [==============================] - 6s 6s/step - loss: 2.4933e-06 - accuracy: 1.0000\n",
            "Epoch 89/100\n",
            "1/1 [==============================] - 6s 6s/step - loss: 2.4481e-06 - accuracy: 1.0000\n",
            "Epoch 90/100\n",
            "1/1 [==============================] - 6s 6s/step - loss: 2.4052e-06 - accuracy: 1.0000\n",
            "Epoch 91/100\n",
            "1/1 [==============================] - 6s 6s/step - loss: 2.3603e-06 - accuracy: 1.0000\n",
            "Epoch 92/100\n",
            "1/1 [==============================] - 6s 6s/step - loss: 2.3115e-06 - accuracy: 1.0000\n",
            "Epoch 93/100\n",
            "1/1 [==============================] - 6s 6s/step - loss: 2.2600e-06 - accuracy: 1.0000\n",
            "Epoch 94/100\n",
            "1/1 [==============================] - 6s 6s/step - loss: 2.2078e-06 - accuracy: 1.0000\n",
            "Epoch 95/100\n",
            "1/1 [==============================] - 6s 6s/step - loss: 2.1562e-06 - accuracy: 1.0000\n",
            "Epoch 96/100\n",
            "1/1 [==============================] - 6s 6s/step - loss: 2.1075e-06 - accuracy: 1.0000\n",
            "Epoch 97/100\n",
            "1/1 [==============================] - 6s 6s/step - loss: 2.0625e-06 - accuracy: 1.0000\n",
            "Epoch 98/100\n",
            "1/1 [==============================] - 6s 6s/step - loss: 2.0218e-06 - accuracy: 1.0000\n",
            "Epoch 99/100\n",
            "1/1 [==============================] - 6s 6s/step - loss: 1.9851e-06 - accuracy: 1.0000\n",
            "Epoch 100/100\n",
            "1/1 [==============================] - 6s 6s/step - loss: 1.9522e-06 - accuracy: 1.0000\n"
          ],
          "name": "stdout"
        }
      ]
    },
    {
      "cell_type": "markdown",
      "metadata": {
        "id": "sSynW4e1xsid"
      },
      "source": [
        "**Visualize the accuracy of the model**"
      ]
    },
    {
      "cell_type": "code",
      "metadata": {
        "id": "ULby8cSOxzLm",
        "colab": {
          "base_uri": "https://localhost:8080/",
          "height": 265
        },
        "outputId": "2fb63a0a-cedd-46c0-8273-8c7027a45c41"
      },
      "source": [
        "import matplotlib.pyplot as plt\n",
        "\n",
        "plt.plot(list(range(len(history.history['accuracy']))),\n",
        "         history.history['accuracy'])\n",
        "plt.show()"
      ],
      "execution_count": null,
      "outputs": [
        {
          "output_type": "display_data",
          "data": {
            "image/png": "[encoded data removed]",
            "text/plain": [
              "<Figure size 432x288 with 1 Axes>"
            ]
          },
          "metadata": {
            "tags": [],
            "needs_background": "light"
          }
        }
      ]
    },
    {
      "cell_type": "markdown",
      "metadata": {
        "id": "gssmI66cx2vq"
      },
      "source": [
        "**Visualize the loss**"
      ]
    },
    {
      "cell_type": "code",
      "metadata": {
        "id": "AWOxxUsPx2em",
        "colab": {
          "base_uri": "https://localhost:8080/",
          "height": 265
        },
        "outputId": "527e1a38-86f7-4ce4-8e0a-eab545dd16fe"
      },
      "source": [
        "import matplotlib.pyplot as plt\n",
        "\n",
        "plt.plot(list(range(len(history.history['loss']))), history.history['loss'])\n",
        "plt.show()"
      ],
      "execution_count": null,
      "outputs": [
        {
          "output_type": "display_data",
          "data": {
            "image/png": "[encoded data removed]",
            "text/plain": [
              "<Figure size 432x288 with 1 Axes>"
            ]
          },
          "metadata": {
            "tags": [],
            "needs_background": "light"
          }
        }
      ]
    },
    {
      "cell_type": "markdown",
      "metadata": {
        "id": "Tq7lZ3yFx8Kv"
      },
      "source": [
        "**Evaluate the Model**"
      ]
    },
    {
      "cell_type": "code",
      "metadata": {
        "id": "IfiBeDQbyThp",
        "colab": {
          "base_uri": "https://localhost:8080/",
          "height": 392
        },
        "outputId": "23270be2-5488-43e4-c36e-eff42f98725b"
      },
      "source": [
        "import tensorflow as tf\n",
        "\n",
        "test_dir = \"/content/test\"\n",
        "\n",
        "test_image_iterator = tf.keras.preprocessing.image.DirectoryIterator(\n",
        "    target_size=(100, 100),\n",
        "    directory=test_dir,\n",
        "    batch_size=128,\n",
        "    shuffle=False,\n",
        "    image_data_generator=None)\n",
        "\n",
        "model.evaluate(test_image_iterator)"
      ],
      "execution_count": null,
      "outputs": [
        {
          "output_type": "error",
          "ename": "FileNotFoundError",
          "evalue": "ignored",
          "traceback": [
            "\u001b[0;31m---------------------------------------------------------------------------\u001b[0m",
            "\u001b[0;31mFileNotFoundError\u001b[0m                         Traceback (most recent call last)",
            "\u001b[0;32m<ipython-input-35-9a15f8468c7c>\u001b[0m in \u001b[0;36m<module>\u001b[0;34m()\u001b[0m\n\u001b[1;32m      8\u001b[0m     \u001b[0mbatch_size\u001b[0m\u001b[0;34m=\u001b[0m\u001b[0;36m128\u001b[0m\u001b[0;34m,\u001b[0m\u001b[0;34m\u001b[0m\u001b[0;34m\u001b[0m\u001b[0m\n\u001b[1;32m      9\u001b[0m     \u001b[0mshuffle\u001b[0m\u001b[0;34m=\u001b[0m\u001b[0;32mFalse\u001b[0m\u001b[0;34m,\u001b[0m\u001b[0;34m\u001b[0m\u001b[0;34m\u001b[0m\u001b[0m\n\u001b[0;32m---> 10\u001b[0;31m     image_data_generator=None)\n\u001b[0m\u001b[1;32m     11\u001b[0m \u001b[0;34m\u001b[0m\u001b[0m\n\u001b[1;32m     12\u001b[0m \u001b[0mmodel\u001b[0m\u001b[0;34m.\u001b[0m\u001b[0mevaluate\u001b[0m\u001b[0;34m(\u001b[0m\u001b[0mtest_image_iterator\u001b[0m\u001b[0;34m)\u001b[0m\u001b[0;34m\u001b[0m\u001b[0;34m\u001b[0m\u001b[0m\n",
            "\u001b[0;32m/usr/local/lib/python3.7/dist-packages/tensorflow/python/keras/preprocessing/image.py\u001b[0m in \u001b[0;36m__init__\u001b[0;34m(self, directory, image_data_generator, target_size, color_mode, classes, class_mode, batch_size, shuffle, seed, data_format, save_to_dir, save_prefix, save_format, follow_links, subset, interpolation, dtype)\u001b[0m\n\u001b[1;32m    390\u001b[0m         \u001b[0msubset\u001b[0m\u001b[0;34m=\u001b[0m\u001b[0msubset\u001b[0m\u001b[0;34m,\u001b[0m\u001b[0;34m\u001b[0m\u001b[0;34m\u001b[0m\u001b[0m\n\u001b[1;32m    391\u001b[0m         \u001b[0minterpolation\u001b[0m\u001b[0;34m=\u001b[0m\u001b[0minterpolation\u001b[0m\u001b[0;34m,\u001b[0m\u001b[0;34m\u001b[0m\u001b[0;34m\u001b[0m\u001b[0m\n\u001b[0;32m--> 392\u001b[0;31m         **kwargs)\n\u001b[0m\u001b[1;32m    393\u001b[0m \u001b[0;34m\u001b[0m\u001b[0m\n\u001b[1;32m    394\u001b[0m \u001b[0;34m\u001b[0m\u001b[0m\n",
            "\u001b[0;32m/usr/local/lib/python3.7/dist-packages/keras_preprocessing/image/directory_iterator.py\u001b[0m in \u001b[0;36m__init__\u001b[0;34m(self, directory, image_data_generator, target_size, color_mode, classes, class_mode, batch_size, shuffle, seed, data_format, save_to_dir, save_prefix, save_format, follow_links, subset, interpolation, dtype)\u001b[0m\n\u001b[1;32m    113\u001b[0m         \u001b[0;32mif\u001b[0m \u001b[0;32mnot\u001b[0m \u001b[0mclasses\u001b[0m\u001b[0;34m:\u001b[0m\u001b[0;34m\u001b[0m\u001b[0;34m\u001b[0m\u001b[0m\n\u001b[1;32m    114\u001b[0m             \u001b[0mclasses\u001b[0m \u001b[0;34m=\u001b[0m \u001b[0;34m[\u001b[0m\u001b[0;34m]\u001b[0m\u001b[0;34m\u001b[0m\u001b[0;34m\u001b[0m\u001b[0m\n\u001b[0;32m--> 115\u001b[0;31m             \u001b[0;32mfor\u001b[0m \u001b[0msubdir\u001b[0m \u001b[0;32min\u001b[0m \u001b[0msorted\u001b[0m\u001b[0;34m(\u001b[0m\u001b[0mos\u001b[0m\u001b[0;34m.\u001b[0m\u001b[0mlistdir\u001b[0m\u001b[0;34m(\u001b[0m\u001b[0mdirectory\u001b[0m\u001b[0;34m)\u001b[0m\u001b[0;34m)\u001b[0m\u001b[0;34m:\u001b[0m\u001b[0;34m\u001b[0m\u001b[0;34m\u001b[0m\u001b[0m\n\u001b[0m\u001b[1;32m    116\u001b[0m                 \u001b[0;32mif\u001b[0m \u001b[0mos\u001b[0m\u001b[0;34m.\u001b[0m\u001b[0mpath\u001b[0m\u001b[0;34m.\u001b[0m\u001b[0misdir\u001b[0m\u001b[0;34m(\u001b[0m\u001b[0mos\u001b[0m\u001b[0;34m.\u001b[0m\u001b[0mpath\u001b[0m\u001b[0;34m.\u001b[0m\u001b[0mjoin\u001b[0m\u001b[0;34m(\u001b[0m\u001b[0mdirectory\u001b[0m\u001b[0;34m,\u001b[0m \u001b[0msubdir\u001b[0m\u001b[0;34m)\u001b[0m\u001b[0;34m)\u001b[0m\u001b[0;34m:\u001b[0m\u001b[0;34m\u001b[0m\u001b[0;34m\u001b[0m\u001b[0m\n\u001b[1;32m    117\u001b[0m                     \u001b[0mclasses\u001b[0m\u001b[0;34m.\u001b[0m\u001b[0mappend\u001b[0m\u001b[0;34m(\u001b[0m\u001b[0msubdir\u001b[0m\u001b[0;34m)\u001b[0m\u001b[0;34m\u001b[0m\u001b[0;34m\u001b[0m\u001b[0m\n",
            "\u001b[0;31mFileNotFoundError\u001b[0m: [Errno 2] No such file or directory: '/content/test'"
          ]
        }
      ]
    },
    {
      "cell_type": "code",
      "metadata": {
        "colab": {
          "base_uri": "https://localhost:8080/",
          "height": 265
        },
        "id": "OTbtoRf8qeYu",
        "outputId": "5e26d91c-540a-4e3c-9a95-cac38255da3f"
      },
      "source": [
        "import matplotlib.pyplot as plt\n",
        "\n",
        "plt.plot(list(range(len(history.history['loss']))), history.history['loss'])\n",
        "plt.show()"
      ],
      "execution_count": null,
      "outputs": [
        {
          "output_type": "display_data",
          "data": {
            "image/png": "[encoded data removed]",
            "text/plain": [
              "<Figure size 432x288 with 1 Axes>"
            ]
          },
          "metadata": {
            "tags": [],
            "needs_background": "light"
          }
        }
      ]
    },
    {
      "cell_type": "markdown",
      "metadata": {
        "id": "spJVlFzX61KW"
      },
      "source": [
        "**Calculating the F1**"
      ]
    },
    {
      "cell_type": "code",
      "metadata": {
        "id": "z-IabuKfkcyc"
      },
      "source": [
        "predictions = model.predict(test_image_iterator)"
      ],
      "execution_count": null,
      "outputs": []
    },
    {
      "cell_type": "code",
      "metadata": {
        "id": "hXcj53d5khyu"
      },
      "source": [
        "actual_classes = test_image_iterator.classes"
      ],
      "execution_count": null,
      "outputs": []
    },
    {
      "cell_type": "code",
      "metadata": {
        "colab": {
          "base_uri": "https://localhost:8080/"
        },
        "id": "sFIL6Scnkiyg",
        "outputId": "e53b9850-834b-4e6d-ba8b-4d714334da03"
      },
      "source": [
        "import numpy as np\n",
        "\n",
        "predicted_class = [np.argmax(p) for p in predictions]\n",
        "predicted_class"
      ],
      "execution_count": null,
      "outputs": [
        {
          "output_type": "execute_result",
          "data": {
            "text/plain": [
              "[1, 1, 1, 1, 0, 1, 1, 1, 1, 1, 1, 1, 1, 1, 1, 1, 1]"
            ]
          },
          "metadata": {
            "tags": []
          },
          "execution_count": 26
        }
      ]
    },
    {
      "cell_type": "code",
      "metadata": {
        "colab": {
          "base_uri": "https://localhost:8080/"
        },
        "id": "8gLx4PLokpic",
        "outputId": "7859b859-7f2c-423d-af63-f513d42d6e7e"
      },
      "source": [
        "from sklearn.metrics import f1_score\n",
        "f1_score(actual_classes, predicted_class, average='micro')"
      ],
      "execution_count": null,
      "outputs": [
        {
          "output_type": "execute_result",
          "data": {
            "text/plain": [
              "0.7058823529411765"
            ]
          },
          "metadata": {
            "tags": []
          },
          "execution_count": 27
        }
      ]
    }
  ]
}