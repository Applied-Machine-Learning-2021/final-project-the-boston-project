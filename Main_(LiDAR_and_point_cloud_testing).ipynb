{
  "nbformat": 4,
  "nbformat_minor": 0,
  "metadata": {
    "colab": {
      "name": "Copy of Main (LiDAR and point cloud testing)",
      "provenance": [],
      "collapsed_sections": []
    },
    "kernelspec": {
      "name": "python3",
      "display_name": "Python 3"
    },
    "language_info": {
      "name": "python"
    }
  },
  "cells": [
    {
      "cell_type": "markdown",
      "metadata": {
        "id": "ZHvakVKxsfZa"
      },
      "source": [
        "Code for UAV lab project"
      ]
    },
    {
      "cell_type": "code",
      "metadata": {
        "id": "5JE9_MC5rc-5"
      },
      "source": [
        "import pandas as pd\n",
        "import numpy as np\n",
        "from json import loads"
      ],
      "execution_count": null,
      "outputs": []
    },
    {
      "cell_type": "markdown",
      "metadata": {
        "id": "yKEFUbTlsk3_"
      },
      "source": [
        "Methods used:"
      ]
    },
    {
      "cell_type": "markdown",
      "metadata": {
        "id": "MMXXFtlGXNgY"
      },
      "source": [
        "**download (if not already downloaded), then upload the txt. file colab to run code**\n",
        "\n",
        " https://drive.google.com/file/d/1CnCDpMl9y4iup3bMu8QiCI4asl5WPkY_/view?usp=sharing"
      ]
    },
    {
      "cell_type": "code",
      "metadata": {
        "id": "QR_DDj4Crnh6"
      },
      "source": [
        "def open_lidar(filename, verbose=False):\n",
        "    \"\"\"Method for opening LiDAR text files and handling possible line errors\n",
        "    \"\"\"\n",
        "    # open file and read in each line\n",
        "    with open(filename, \"r\") as f:\n",
        "        lines = f.readlines()\n",
        "\n",
        "    # iterate through lines to cast to lists of floats\n",
        "    new_lines = list()\n",
        "    for line in lines:\n",
        "\n",
        "        # in case file is corrupt \n",
        "        try:\n",
        "            new_lines.append([float(val) for val in line.split()])\n",
        "\n",
        "        except Exception as e:\n",
        "            if verbose:  # printing only if verbose, ignore otherwise\n",
        "                print(line)\n",
        "\n",
        "    # convert nested list to pandas dataframe\n",
        "    new_lines = pd.DataFrame(new_lines)\n",
        "    new_lines = new_lines.rename(columns={0: \"x\", 1: \"y\", 2: \"z\"})\n",
        "\n",
        "    return new_lines\n"
      ],
      "execution_count": null,
      "outputs": []
    },
    {
      "cell_type": "markdown",
      "metadata": {
        "id": "nm6xOU1psolL"
      },
      "source": [
        "Importing Data"
      ]
    },
    {
      "cell_type": "code",
      "metadata": {
        "id": "Wxs1ieoysLN2"
      },
      "source": [
        "# open and import sample dataset\n",
        "lidar_df = open_lidar(\"N092E301.txt\", True)            # make sure your uploaded file matches in name and format"
      ],
      "execution_count": null,
      "outputs": []
    },
    {
      "cell_type": "code",
      "metadata": {
        "id": "bWUOGji18_qQ"
      },
      "source": [
        "# save out a small number of data points for testing\n",
        "with open(\"N092E301_small.json\", \"w\") as fh:\n",
        "  fh.write(lidar_df[:128].to_json())\n",
        "  fh.close()"
      ],
      "execution_count": null,
      "outputs": []
    },
    {
      "cell_type": "code",
      "metadata": {
        "id": "b4aJRUhAs8hY"
      },
      "source": [
        "#calculated the max values, the min, the scale(max-min) and the median value \n",
        "max = lidar_df.max() \n",
        "min = lidar_df.min()\n",
        "\n",
        "# organized the data into a list to be converted into a dataframe  \n",
        "lidar_stats = pd.DataFrame(\n",
        "    [min, max, max - min],\n",
        "    index=[\"min\", \"max\", \"scale\"]\n",
        ")"
      ],
      "execution_count": null,
      "outputs": []
    },
    {
      "cell_type": "code",
      "metadata": {
        "id": "ozLxe51qvIHl"
      },
      "source": [
        "# export stats dataframe so the full dataset doesn't have to be loaded everytime this analysis is performed\n",
        "with open(\"N092E301_stats.json\", \"w\") as fh:\n",
        "  fh.write(lidar_stats.to_json())\n",
        "  fh.close()"
      ],
      "execution_count": null,
      "outputs": []
    },
    {
      "cell_type": "code",
      "metadata": {
        "id": "mS8mf0_WGZSO"
      },
      "source": [
        "# import stats dataframe\n",
        "with open(\"N092E301_stats.json\", \"r\") as fh:\n",
        "  lidar_stats = pd.DataFrame(loads(fh.read()))\n",
        "  fh.close()"
      ],
      "execution_count": null,
      "outputs": []
    },
    {
      "cell_type": "markdown",
      "metadata": {
        "id": "ypFD0MsR1FDI"
      },
      "source": [
        "Create Grid DataFrame"
      ]
    },
    {
      "cell_type": "code",
      "metadata": {
        "id": "MtoNXQMY1FTQ"
      },
      "source": [
        "side = 2048\n",
        "increment = side / lidar_stats.loc[\"scale\"]\n",
        "point_grid = pd.DataFrame(\n",
        "    index=[y for y in np.arange(lidar_stats[\"y\"][\"min\"], lidar_stats[\"y\"][\"max\"], increment[\"y\"])],\n",
        "    columns=[x for x in np.arange(lidar_stats[\"x\"][\"min\"], lidar_stats[\"x\"][\"max\"], increment[\"x\"])],\n",
        ")"
      ],
      "execution_count": null,
      "outputs": []
    },
    {
      "cell_type": "code",
      "metadata": {
        "colab": {
          "base_uri": "https://localhost:8080/"
        },
        "id": "BOwIEFkM5QIg",
        "outputId": "a165efc0-0599-4c41-de2b-fb6211b7901d"
      },
      "source": [
        "print(lidar_stats)\n",
        "print(increment)\n",
        "print(point_grid)"
      ],
      "execution_count": null,
      "outputs": [
        {
          "output_type": "stream",
          "text": [
            "                x           y        z\n",
            "min    5280000.00  3902958.42   327.73\n",
            "max    5284999.99  3905000.00  5633.83\n",
            "scale     4999.99     2041.58  5306.10\n",
            "x    0.409601\n",
            "y    1.003145\n",
            "z    0.385971\n",
            "Name: scale, dtype: float64\n",
            "             5.280000e+06 5.280000e+06  ... 5.284999e+06 5.285000e+06\n",
            "3.902958e+06          NaN          NaN  ...          NaN          NaN\n",
            "3.902959e+06          NaN          NaN  ...          NaN          NaN\n",
            "3.902960e+06          NaN          NaN  ...          NaN          NaN\n",
            "3.902961e+06          NaN          NaN  ...          NaN          NaN\n",
            "3.902962e+06          NaN          NaN  ...          NaN          NaN\n",
            "...                   ...          ...  ...          ...          ...\n",
            "3.904996e+06          NaN          NaN  ...          NaN          NaN\n",
            "3.904997e+06          NaN          NaN  ...          NaN          NaN\n",
            "3.904998e+06          NaN          NaN  ...          NaN          NaN\n",
            "3.904999e+06          NaN          NaN  ...          NaN          NaN\n",
            "3.905000e+06          NaN          NaN  ...          NaN          NaN\n",
            "\n",
            "[2036 rows x 12207 columns]\n"
          ],
          "name": "stdout"
        }
      ]
    },
    {
      "cell_type": "markdown",
      "metadata": {
        "id": "tzpk6Sh67Yq_"
      },
      "source": [
        "Grid LiDAR Data Points"
      ]
    },
    {
      "cell_type": "code",
      "metadata": {
        "id": "pUCrWcIOY9R_"
      },
      "source": [
        "#This function will help form a LiDAR grid with a proper set of consistent points\n",
        "def calc_elevation(x, y, nearby_data_points):\n",
        "  \"\"\"Helper method for calculating the elevation based off nearby points.\n",
        "  \"\"\"\n",
        "\n",
        "  # if not nearby_data_points:\n",
        "  #   return None\n",
        "\n",
        "  distances = [((val[0] - x)**2 + (val[1] - y)**2)**0.5 for val in nearby_data_points]\n",
        "  total_distance = len(distances)\n",
        "  return sum([val[2] * (distances[index]/total_distance) for index, val in enumerate(nearby_data_points)])\n",
        "\n",
        "\n",
        "gridded_df = pd.DataFrame(columns=np.arange(lidar_stats[\"x\"][\"min\"], lidar_stats[\"x\"][\"max\"], increment[\"x\"]))\n",
        "\n",
        "for x in np.arange(lidar_stats[\"x\"][\"min\"], lidar_stats[\"x\"][\"max\"], increment[\"x\"]):\n",
        "  for y in np.arange(lidar_stats[\"y\"][\"min\"], lidar_stats[\"y\"][\"max\"], increment[\"y\"]):\n",
        "    values = lidar_df[\n",
        "                  \n",
        "                      (lidar_df[\"x\"] >= x) & \\\n",
        "                      (lidar_df[\"x\"] <= (x + increment[\"x\"])) & \\\n",
        "                      (lidar_df[\"y\"] >= y) & \\\n",
        "                      (lidar_df[\"y\"] <= (y + increment[\"y\"]))\n",
        "                      ]\n",
        "    delete_indexes = values.index\n",
        "    lidar_df.drop(labels=delete_indexes, axis=0, inplace=True)\n",
        "\n",
        "    \n",
        "    gridded_df[x][y] = calc_elevation(x, y, values.values)\n",
        "\n",
        "    # if the values are less than both the y and x value delete them from the array (reduces computation time A LOT!)"
      ],
      "execution_count": null,
      "outputs": []
    }
  ]
}